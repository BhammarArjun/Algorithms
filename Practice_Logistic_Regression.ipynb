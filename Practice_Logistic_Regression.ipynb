{
  "nbformat": 4,
  "nbformat_minor": 0,
  "metadata": {
    "colab": {
      "provenance": [],
      "collapsed_sections": []
    },
    "kernelspec": {
      "name": "python3",
      "display_name": "Python 3"
    },
    "language_info": {
      "name": "python"
    }
  },
  "cells": [
    {
      "cell_type": "code",
      "execution_count": 1,
      "metadata": {
        "id": "eJabD-B0n1Rb"
      },
      "outputs": [],
      "source": [
        "import numpy as np\n",
        "import pandas as pd\n",
        "import matplotlib.pyplot as plt\n",
        "import seaborn as sbn"
      ]
    },
    {
      "cell_type": "code",
      "source": [
        "x = np.arange(0.001,1,0.01)\n",
        "y = - np.log(x)\n"
      ],
      "metadata": {
        "id": "n18hOqcvoCFS"
      },
      "execution_count": 2,
      "outputs": []
    },
    {
      "cell_type": "code",
      "source": [
        "plt.plot(x,y)\n",
        "plt.show()"
      ],
      "metadata": {
        "colab": {
          "base_uri": "https://localhost:8080/",
          "height": 265
        },
        "id": "eoZVSn8Xoz7S",
        "outputId": "ae2e30d0-408e-412f-dff5-8de56412bb82"
      },
      "execution_count": 6,
      "outputs": [
        {
          "output_type": "display_data",
          "data": {
            "text/plain": [
              "<Figure size 432x288 with 1 Axes>"
            ],
            "image/png": "[encoded data removed]"
          },
          "metadata": {
            "needs_background": "light"
          }
        }
      ]
    },
    {
      "cell_type": "code",
      "source": [
        "y1 = - np.log(1-x)\n"
      ],
      "metadata": {
        "id": "KzDgE3RBo1mo"
      },
      "execution_count": 7,
      "outputs": []
    },
    {
      "cell_type": "code",
      "source": [
        "plt.plot(x,y1)\n",
        "plt.show()"
      ],
      "metadata": {
        "colab": {
          "base_uri": "https://localhost:8080/",
          "height": 265
        },
        "id": "LGm3q5Lpo6U7",
        "outputId": "0853fa92-e676-4757-acbc-b1662fcb5b68"
      },
      "execution_count": 8,
      "outputs": [
        {
          "output_type": "display_data",
          "data": {
            "text/plain": [
              "<Figure size 432x288 with 1 Axes>"
            ],
            "image/png": "[encoded data removed]"
          },
          "metadata": {
            "needs_background": "light"
          }
        }
      ]
    },
    {
      "cell_type": "code",
      "source": [
        "def sigmoid(X):\n",
        "  return 1/(1+np.exp(-X))"
      ],
      "metadata": {
        "id": "lyuaZbndo8Xx"
      },
      "execution_count": 23,
      "outputs": []
    },
    {
      "cell_type": "code",
      "source": [
        "x = np.arange(-10,10,0.01)"
      ],
      "metadata": {
        "id": "G1hyp4Rnqvf2"
      },
      "execution_count": 24,
      "outputs": []
    },
    {
      "cell_type": "code",
      "source": [
        "y = sigmoid(x)"
      ],
      "metadata": {
        "id": "sicHwW_eqyt7"
      },
      "execution_count": 25,
      "outputs": []
    },
    {
      "cell_type": "code",
      "source": [
        "plt.plot(x,y)\n",
        "plt.show()"
      ],
      "metadata": {
        "colab": {
          "base_uri": "https://localhost:8080/",
          "height": 265
        },
        "id": "x6KlZ3t_q0JP",
        "outputId": "296be3dd-a15c-4b5c-9adf-710a4c58d304"
      },
      "execution_count": 26,
      "outputs": [
        {
          "output_type": "display_data",
          "data": {
            "text/plain": [
              "<Figure size 432x288 with 1 Axes>"
            ],
            "image/png": "[encoded data removed]"
          },
          "metadata": {
            "needs_background": "light"
          }
        }
      ]
    },
    {
      "cell_type": "code",
      "source": [
        "def prediction(X,W):\n",
        "  return sigmoid(np.dot(X,W))\n"
      ],
      "metadata": {
        "id": "eyr9wf5kq1WW"
      },
      "execution_count": 27,
      "outputs": []
    },
    {
      "cell_type": "code",
      "source": [
        "def error(X,y,W):\n",
        "  y_hat = prediction(X,W)\n",
        "  answer = -y*np.log(y_hat) - (1-y)*np.log(1-y_hat)\n",
        "  return np.sum(answer) "
      ],
      "metadata": {
        "id": "8KFwcPaXr52l"
      },
      "execution_count": 28,
      "outputs": []
    },
    {
      "cell_type": "code",
      "source": [
        "def gradient(X,y,W):\n",
        "  y_hat = prediction(X,W)\n",
        "  grad = X.T @ (y_hat - y)\n",
        "  return grad"
      ],
      "metadata": {
        "id": "sKcPLPK2uXUe"
      },
      "execution_count": 30,
      "outputs": []
    },
    {
      "cell_type": "code",
      "source": [
        "def gradient_descent(X,y, iter = 300, l = 0.2):\n",
        "  W = np.random.randn(X.shape[1],1)\n",
        "  errors = []\n",
        "\n",
        "  for i in range(iter):\n",
        "    errors.append(error(X,y,W))\n",
        "    grad = gradient(X,y,W)\n",
        "    W = W - l * grad\n",
        "\n",
        "  return W, errors  "
      ],
      "metadata": {
        "id": "U1Kezdt4sdTT"
      },
      "execution_count": 63,
      "outputs": []
    },
    {
      "cell_type": "code",
      "source": [
        "from sklearn.datasets import make_classification"
      ],
      "metadata": {
        "id": "p4tD0eYRsmB8"
      },
      "execution_count": 32,
      "outputs": []
    },
    {
      "cell_type": "code",
      "source": [
        "X,y = make_classification(n_features = 2,n_informative=2, n_redundant=0, n_clusters_per_class=1)"
      ],
      "metadata": {
        "id": "2X_6DP1LvcLt"
      },
      "execution_count": 34,
      "outputs": []
    },
    {
      "cell_type": "code",
      "source": [
        "sbn.scatterplot(x= X[:,0],y = X[:,1] ,hue = y)\n",
        "plt.show()"
      ],
      "metadata": {
        "colab": {
          "base_uri": "https://localhost:8080/",
          "height": 265
        },
        "id": "r2oS5rKHv2Y6",
        "outputId": "d1027b06-0d5b-4431-ad56-7c3cb68907ae"
      },
      "execution_count": 45,
      "outputs": [
        {
          "output_type": "display_data",
          "data": {
            "text/plain": [
              "<Figure size 432x288 with 1 Axes>"
            ],
            "image/png": "[encoded data removed]"
          },
          "metadata": {
            "needs_background": "light"
          }
        }
      ]
    },
    {
      "cell_type": "code",
      "source": [
        "X = np.hstack((X, np.ones((100,1))))"
      ],
      "metadata": {
        "id": "crcY4nG9v-4k"
      },
      "execution_count": 59,
      "outputs": []
    },
    {
      "cell_type": "code",
      "source": [
        "y = y.reshape(-1,1)"
      ],
      "metadata": {
        "id": "YjVvjFhA0JfB"
      },
      "execution_count": 87,
      "outputs": []
    },
    {
      "cell_type": "code",
      "source": [
        "X.shape"
      ],
      "metadata": {
        "colab": {
          "base_uri": "https://localhost:8080/"
        },
        "id": "s7mp-CC2xwsa",
        "outputId": "5397a1fa-4104-4e8c-c9d4-ffc64e5766d3"
      },
      "execution_count": 61,
      "outputs": [
        {
          "output_type": "execute_result",
          "data": {
            "text/plain": [
              "(100, 3)"
            ]
          },
          "metadata": {},
          "execution_count": 61
        }
      ]
    },
    {
      "cell_type": "code",
      "source": [
        "opt, e = gradient_descent(X,y)"
      ],
      "metadata": {
        "id": "E6MyqPYeyIcs"
      },
      "execution_count": 99,
      "outputs": []
    },
    {
      "cell_type": "code",
      "source": [
        "plt.plot(e)\n",
        "plt.show()"
      ],
      "metadata": {
        "colab": {
          "base_uri": "https://localhost:8080/",
          "height": 265
        },
        "id": "jHHWMIgN0O-a",
        "outputId": "cb9a3a2c-beb3-4f1c-f8d4-d63c1e09b741"
      },
      "execution_count": 100,
      "outputs": [
        {
          "output_type": "display_data",
          "data": {
            "text/plain": [
              "<Figure size 432x288 with 1 Axes>"
            ],
            "image/png": "[encoded data removed]"
          },
          "metadata": {
            "needs_background": "light"
          }
        }
      ]
    },
    {
      "cell_type": "code",
      "source": [
        "x1 = np.arange(-3,4,0.1)\n",
        "y1 = (1.225 * x1 + 0.372)/3.75"
      ],
      "metadata": {
        "id": "V1uIFlqs0dQn"
      },
      "execution_count": 101,
      "outputs": []
    },
    {
      "cell_type": "code",
      "source": [
        "sbn.scatterplot(x= X[:,0],y = X[:,1] ,hue = y.flatten())\n",
        "plt.plot(x1,y1)\n",
        "plt.show()"
      ],
      "metadata": {
        "colab": {
          "base_uri": "https://localhost:8080/",
          "height": 265
        },
        "id": "pKYP-PyT0Ph7",
        "outputId": "57ba8ffe-1d40-431e-ee7e-92a9c557e84c"
      },
      "execution_count": 102,
      "outputs": [
        {
          "output_type": "display_data",
          "data": {
            "text/plain": [
              "<Figure size 432x288 with 1 Axes>"
            ],
            "image/png": "[encoded data removed]"
          },
          "metadata": {
            "needs_background": "light"
          }
        }
      ]
    },
    {
      "cell_type": "code",
      "source": [
        "opt"
      ],
      "metadata": {
        "colab": {
          "base_uri": "https://localhost:8080/"
        },
        "id": "VQKs2YmD1JJJ",
        "outputId": "4c71e5e6-4705-45ba-ef97-33777e4fcd83"
      },
      "execution_count": 103,
      "outputs": [
        {
          "output_type": "execute_result",
          "data": {
            "text/plain": [
              "array([[ 1.22454452],\n",
              "       [-3.74935138],\n",
              "       [ 0.37171701]])"
            ]
          },
          "metadata": {},
          "execution_count": 103
        }
      ]
    },
    {
      "cell_type": "code",
      "source": [],
      "metadata": {
        "id": "AMYF9emN1K8U"
      },
      "execution_count": null,
      "outputs": []
    }
  ]
}